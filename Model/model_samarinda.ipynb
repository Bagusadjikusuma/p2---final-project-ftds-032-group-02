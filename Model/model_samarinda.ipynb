{
 "cells": [
  {
   "cell_type": "markdown",
   "metadata": {},
   "source": [
    "# 1. Import Libraries"
   ]
  },
  {
   "cell_type": "code",
   "execution_count": 81,
   "metadata": {},
   "outputs": [],
   "source": [
    "import pandas as pd\n",
    "import plotly.express as px\n",
    "import numpy as np\n",
    "import xgboost as xgb\n",
    "import pickle\n",
    "import json\n",
    "import sklearn\n",
    "import feature_engine\n",
    "import matplotlib.pyplot as plt\n",
    "import seaborn as sns\n",
    "\n",
    "from sklearn.model_selection import train_test_split, GridSearchCV, cross_val_score\n",
    "from sklearn.model_selection import RandomizedSearchCV\n",
    "from scipy.stats import kendalltau, pearsonr\n",
    "from sklearn.pipeline import Pipeline\n",
    "from sklearn.compose import ColumnTransformer\n",
    "from sklearn.linear_model import LinearRegression\n",
    "from feature_engine.outliers import Winsorizer\n",
    "from sklearn.compose import ColumnTransformer, make_column_selector as selector\n",
    "from sklearn.preprocessing import StandardScaler, OneHotEncoder\n",
    "from sklearn.svm import SVR\n",
    "from sklearn.neighbors import KNeighborsRegressor\n",
    "from sklearn.tree import DecisionTreeRegressor\n",
    "from sklearn.ensemble import RandomForestRegressor, GradientBoostingRegressor\n",
    "from sklearn.metrics import mean_squared_error, r2_score, root_mean_squared_error"
   ]
  },
  {
   "cell_type": "markdown",
   "metadata": {},
   "source": [
    "# 2. Data Loading"
   ]
  },
  {
   "cell_type": "code",
   "execution_count": 3,
   "metadata": {},
   "outputs": [],
   "source": [
    "df = pd.read_csv('samarinda_fix_clean.csv')"
   ]
  },
  {
   "cell_type": "code",
   "execution_count": 4,
   "metadata": {},
   "outputs": [
    {
     "data": {
      "text/html": [
       "<div>\n",
       "<style scoped>\n",
       "    .dataframe tbody tr th:only-of-type {\n",
       "        vertical-align: middle;\n",
       "    }\n",
       "\n",
       "    .dataframe tbody tr th {\n",
       "        vertical-align: top;\n",
       "    }\n",
       "\n",
       "    .dataframe thead th {\n",
       "        text-align: right;\n",
       "    }\n",
       "</style>\n",
       "<table border=\"1\" class=\"dataframe\">\n",
       "  <thead>\n",
       "    <tr style=\"text-align: right;\">\n",
       "      <th></th>\n",
       "      <th>harga</th>\n",
       "      <th>lokasi</th>\n",
       "      <th>luas_bangunan</th>\n",
       "      <th>luas_tanah</th>\n",
       "      <th>sertifikat</th>\n",
       "      <th>furnish</th>\n",
       "      <th>kamar_tidur</th>\n",
       "      <th>kamar_mandi</th>\n",
       "      <th>listrik</th>\n",
       "      <th>kamar_tidur_art</th>\n",
       "      <th>kamar_mandi_art</th>\n",
       "    </tr>\n",
       "  </thead>\n",
       "  <tbody>\n",
       "    <tr>\n",
       "      <th>0</th>\n",
       "      <td>2800000</td>\n",
       "      <td>Sungai Pinang</td>\n",
       "      <td>218.0</td>\n",
       "      <td>180.0</td>\n",
       "      <td>SHM</td>\n",
       "      <td>Semi-furnished</td>\n",
       "      <td>3</td>\n",
       "      <td>3</td>\n",
       "      <td>4400.0</td>\n",
       "      <td>1</td>\n",
       "      <td>1</td>\n",
       "    </tr>\n",
       "    <tr>\n",
       "      <th>1</th>\n",
       "      <td>900000</td>\n",
       "      <td>Sungai Pinang</td>\n",
       "      <td>250.0</td>\n",
       "      <td>300.0</td>\n",
       "      <td>SHM</td>\n",
       "      <td>Non-furnished</td>\n",
       "      <td>4</td>\n",
       "      <td>2</td>\n",
       "      <td>1300.0</td>\n",
       "      <td>0</td>\n",
       "      <td>0</td>\n",
       "    </tr>\n",
       "    <tr>\n",
       "      <th>2</th>\n",
       "      <td>11000000</td>\n",
       "      <td>Samarinda Kota</td>\n",
       "      <td>350.0</td>\n",
       "      <td>558.0</td>\n",
       "      <td>SHM</td>\n",
       "      <td>Non-furnished</td>\n",
       "      <td>10</td>\n",
       "      <td>6</td>\n",
       "      <td>3500.0</td>\n",
       "      <td>0</td>\n",
       "      <td>0</td>\n",
       "    </tr>\n",
       "    <tr>\n",
       "      <th>3</th>\n",
       "      <td>1850000</td>\n",
       "      <td>Samarinda Seberang</td>\n",
       "      <td>90.0</td>\n",
       "      <td>200.0</td>\n",
       "      <td>SHM</td>\n",
       "      <td>Fully-furnished</td>\n",
       "      <td>3</td>\n",
       "      <td>2</td>\n",
       "      <td>1300.0</td>\n",
       "      <td>0</td>\n",
       "      <td>0</td>\n",
       "    </tr>\n",
       "    <tr>\n",
       "      <th>4</th>\n",
       "      <td>900000</td>\n",
       "      <td>Samarinda Kota</td>\n",
       "      <td>90.0</td>\n",
       "      <td>200.0</td>\n",
       "      <td>SHM</td>\n",
       "      <td>Fully-furnished</td>\n",
       "      <td>4</td>\n",
       "      <td>2</td>\n",
       "      <td>1300.0</td>\n",
       "      <td>0</td>\n",
       "      <td>0</td>\n",
       "    </tr>\n",
       "    <tr>\n",
       "      <th>5</th>\n",
       "      <td>1600000</td>\n",
       "      <td>Samarinda Ulu</td>\n",
       "      <td>220.0</td>\n",
       "      <td>135.0</td>\n",
       "      <td>SHM</td>\n",
       "      <td>Non-furnished</td>\n",
       "      <td>4</td>\n",
       "      <td>3</td>\n",
       "      <td>1300.0</td>\n",
       "      <td>0</td>\n",
       "      <td>0</td>\n",
       "    </tr>\n",
       "    <tr>\n",
       "      <th>6</th>\n",
       "      <td>2200000</td>\n",
       "      <td>Samarinda Kota</td>\n",
       "      <td>140.0</td>\n",
       "      <td>184.0</td>\n",
       "      <td>SHM</td>\n",
       "      <td>Non-furnished</td>\n",
       "      <td>5</td>\n",
       "      <td>2</td>\n",
       "      <td>2200.0</td>\n",
       "      <td>1</td>\n",
       "      <td>1</td>\n",
       "    </tr>\n",
       "    <tr>\n",
       "      <th>7</th>\n",
       "      <td>950000</td>\n",
       "      <td>Sambutan</td>\n",
       "      <td>128.0</td>\n",
       "      <td>225.0</td>\n",
       "      <td>HGB</td>\n",
       "      <td>Non-furnished</td>\n",
       "      <td>3</td>\n",
       "      <td>2</td>\n",
       "      <td>1300.0</td>\n",
       "      <td>0</td>\n",
       "      <td>0</td>\n",
       "    </tr>\n",
       "    <tr>\n",
       "      <th>8</th>\n",
       "      <td>875000</td>\n",
       "      <td>Samarinda Utara</td>\n",
       "      <td>57.0</td>\n",
       "      <td>200.0</td>\n",
       "      <td>SHM</td>\n",
       "      <td>Non-furnished</td>\n",
       "      <td>3</td>\n",
       "      <td>1</td>\n",
       "      <td>450.0</td>\n",
       "      <td>0</td>\n",
       "      <td>0</td>\n",
       "    </tr>\n",
       "    <tr>\n",
       "      <th>9</th>\n",
       "      <td>600000</td>\n",
       "      <td>Samarinda Ilir</td>\n",
       "      <td>115.0</td>\n",
       "      <td>235.0</td>\n",
       "      <td>SHM</td>\n",
       "      <td>Non-furnished</td>\n",
       "      <td>2</td>\n",
       "      <td>1</td>\n",
       "      <td>1300.0</td>\n",
       "      <td>0</td>\n",
       "      <td>0</td>\n",
       "    </tr>\n",
       "  </tbody>\n",
       "</table>\n",
       "</div>"
      ],
      "text/plain": [
       "      harga                lokasi  luas_bangunan  luas_tanah sertifikat  \\\n",
       "0   2800000         Sungai Pinang          218.0       180.0        SHM   \n",
       "1    900000         Sungai Pinang          250.0       300.0        SHM   \n",
       "2  11000000        Samarinda Kota          350.0       558.0        SHM   \n",
       "3   1850000    Samarinda Seberang           90.0       200.0        SHM   \n",
       "4    900000        Samarinda Kota           90.0       200.0        SHM   \n",
       "5   1600000         Samarinda Ulu          220.0       135.0        SHM   \n",
       "6   2200000        Samarinda Kota          140.0       184.0        SHM   \n",
       "7    950000              Sambutan          128.0       225.0        HGB   \n",
       "8    875000       Samarinda Utara           57.0       200.0        SHM   \n",
       "9    600000        Samarinda Ilir          115.0       235.0        SHM   \n",
       "\n",
       "           furnish  kamar_tidur  kamar_mandi  listrik  kamar_tidur_art  \\\n",
       "0   Semi-furnished            3            3   4400.0                1   \n",
       "1    Non-furnished            4            2   1300.0                0   \n",
       "2    Non-furnished           10            6   3500.0                0   \n",
       "3  Fully-furnished            3            2   1300.0                0   \n",
       "4  Fully-furnished            4            2   1300.0                0   \n",
       "5    Non-furnished            4            3   1300.0                0   \n",
       "6    Non-furnished            5            2   2200.0                1   \n",
       "7    Non-furnished            3            2   1300.0                0   \n",
       "8    Non-furnished            3            1    450.0                0   \n",
       "9    Non-furnished            2            1   1300.0                0   \n",
       "\n",
       "   kamar_mandi_art  \n",
       "0                1  \n",
       "1                0  \n",
       "2                0  \n",
       "3                0  \n",
       "4                0  \n",
       "5                0  \n",
       "6                1  \n",
       "7                0  \n",
       "8                0  \n",
       "9                0  "
      ]
     },
     "execution_count": 4,
     "metadata": {},
     "output_type": "execute_result"
    }
   ],
   "source": [
    "df.head(10)"
   ]
  },
  {
   "cell_type": "code",
   "execution_count": 5,
   "metadata": {},
   "outputs": [
    {
     "name": "stdout",
     "output_type": "stream",
     "text": [
      "<class 'pandas.core.frame.DataFrame'>\n",
      "RangeIndex: 444 entries, 0 to 443\n",
      "Data columns (total 11 columns):\n",
      " #   Column           Non-Null Count  Dtype  \n",
      "---  ------           --------------  -----  \n",
      " 0   harga            444 non-null    int64  \n",
      " 1   lokasi           444 non-null    object \n",
      " 2   luas_bangunan    444 non-null    float64\n",
      " 3   luas_tanah       444 non-null    float64\n",
      " 4   sertifikat       444 non-null    object \n",
      " 5   furnish          444 non-null    object \n",
      " 6   kamar_tidur      444 non-null    int64  \n",
      " 7   kamar_mandi      444 non-null    int64  \n",
      " 8   listrik          444 non-null    float64\n",
      " 9   kamar_tidur_art  444 non-null    int64  \n",
      " 10  kamar_mandi_art  444 non-null    int64  \n",
      "dtypes: float64(3), int64(5), object(3)\n",
      "memory usage: 38.3+ KB\n"
     ]
    }
   ],
   "source": [
    "df.info()"
   ]
  },
  {
   "cell_type": "code",
   "execution_count": 8,
   "metadata": {},
   "outputs": [
    {
     "data": {
      "text/plain": [
       "432"
      ]
     },
     "execution_count": 8,
     "metadata": {},
     "output_type": "execute_result"
    }
   ],
   "source": [
    "(df['kamar_mandi_art']==0).sum()"
   ]
  },
  {
   "cell_type": "code",
   "execution_count": 10,
   "metadata": {},
   "outputs": [],
   "source": [
    "df_copy = df.copy()"
   ]
  },
  {
   "cell_type": "code",
   "execution_count": 11,
   "metadata": {},
   "outputs": [],
   "source": [
    "df = df.drop(columns=['kamar_mandi_art'])"
   ]
  },
  {
   "cell_type": "code",
   "execution_count": 13,
   "metadata": {},
   "outputs": [],
   "source": [
    "df = df.rename(columns={'kamar_tidur_art':'kamar_pembantu'})"
   ]
  },
  {
   "cell_type": "code",
   "execution_count": 14,
   "metadata": {},
   "outputs": [
    {
     "name": "stdout",
     "output_type": "stream",
     "text": [
      "<class 'pandas.core.frame.DataFrame'>\n",
      "RangeIndex: 444 entries, 0 to 443\n",
      "Data columns (total 10 columns):\n",
      " #   Column          Non-Null Count  Dtype  \n",
      "---  ------          --------------  -----  \n",
      " 0   harga           444 non-null    int64  \n",
      " 1   lokasi          444 non-null    object \n",
      " 2   luas_bangunan   444 non-null    float64\n",
      " 3   luas_tanah      444 non-null    float64\n",
      " 4   sertifikat      444 non-null    object \n",
      " 5   furnish         444 non-null    object \n",
      " 6   kamar_tidur     444 non-null    int64  \n",
      " 7   kamar_mandi     444 non-null    int64  \n",
      " 8   listrik         444 non-null    float64\n",
      " 9   kamar_pembantu  444 non-null    int64  \n",
      "dtypes: float64(3), int64(4), object(3)\n",
      "memory usage: 34.8+ KB\n"
     ]
    }
   ],
   "source": [
    "df.info()"
   ]
  },
  {
   "cell_type": "markdown",
   "metadata": {},
   "source": [
    "# 3. Exploratory Data Analysis"
   ]
  },
  {
   "cell_type": "markdown",
   "metadata": {},
   "source": [
    "## 3.1. Cardinality Check"
   ]
  },
  {
   "cell_type": "code",
   "execution_count": 15,
   "metadata": {},
   "outputs": [
    {
     "data": {
      "text/html": [
       "<div>\n",
       "<style scoped>\n",
       "    .dataframe tbody tr th:only-of-type {\n",
       "        vertical-align: middle;\n",
       "    }\n",
       "\n",
       "    .dataframe tbody tr th {\n",
       "        vertical-align: top;\n",
       "    }\n",
       "\n",
       "    .dataframe thead th {\n",
       "        text-align: right;\n",
       "    }\n",
       "</style>\n",
       "<table border=\"1\" class=\"dataframe\">\n",
       "  <thead>\n",
       "    <tr style=\"text-align: right;\">\n",
       "      <th></th>\n",
       "      <th>nama kolom</th>\n",
       "      <th>jumlah nilai unique</th>\n",
       "    </tr>\n",
       "  </thead>\n",
       "  <tbody>\n",
       "    <tr>\n",
       "      <th>0</th>\n",
       "      <td>lokasi</td>\n",
       "      <td>11</td>\n",
       "    </tr>\n",
       "    <tr>\n",
       "      <th>1</th>\n",
       "      <td>sertifikat</td>\n",
       "      <td>4</td>\n",
       "    </tr>\n",
       "    <tr>\n",
       "      <th>2</th>\n",
       "      <td>furnish</td>\n",
       "      <td>3</td>\n",
       "    </tr>\n",
       "  </tbody>\n",
       "</table>\n",
       "</div>"
      ],
      "text/plain": [
       "   nama kolom  jumlah nilai unique\n",
       "0      lokasi                   11\n",
       "1  sertifikat                    4\n",
       "2     furnish                    3"
      ]
     },
     "execution_count": 15,
     "metadata": {},
     "output_type": "execute_result"
    }
   ],
   "source": [
    "pd.set_option('display.max_colwidth', None)\n",
    "\n",
    "cat_cols = (df.select_dtypes(exclude=['int64', 'float64']).columns)\n",
    "\n",
    "listItem = []\n",
    "for col in cat_cols:\n",
    "    listItem.append([col, df[col].nunique()])\n",
    "\n",
    "cardinal_df = pd.DataFrame(listItem, columns=['nama kolom', 'jumlah nilai unique'])\n",
    "cardinal_df"
   ]
  },
  {
   "cell_type": "markdown",
   "metadata": {},
   "source": [
    "dataset memilki 3 kolom kategorik yang ketiganya tidak memiliki high cardinality, sehingga bisa diterapkan OneHotEncoding"
   ]
  },
  {
   "cell_type": "code",
   "execution_count": 87,
   "metadata": {},
   "outputs": [
    {
     "data": {
      "text/plain": [
       "array(['  Sungai Pinang', '  Samarinda Kota', '  Samarinda Seberang',\n",
       "       '  Samarinda Ulu', '  Sambutan', '  Samarinda Utara',\n",
       "       '  Samarinda Ilir', '  Sungai Kunjang', '  Samarinda Kunjang',\n",
       "       '  Loa Janan Ilir', '  Palaran'], dtype=object)"
      ]
     },
     "execution_count": 87,
     "metadata": {},
     "output_type": "execute_result"
    }
   ],
   "source": [
    "df['lokasi'].unique()"
   ]
  },
  {
   "cell_type": "markdown",
   "metadata": {},
   "source": [
    "# 4. Feature Engineering"
   ]
  },
  {
   "cell_type": "markdown",
   "metadata": {},
   "source": [
    "## 4.1. Split X and y"
   ]
  },
  {
   "cell_type": "code",
   "execution_count": 16,
   "metadata": {},
   "outputs": [
    {
     "data": {
      "text/html": [
       "<div>\n",
       "<style scoped>\n",
       "    .dataframe tbody tr th:only-of-type {\n",
       "        vertical-align: middle;\n",
       "    }\n",
       "\n",
       "    .dataframe tbody tr th {\n",
       "        vertical-align: top;\n",
       "    }\n",
       "\n",
       "    .dataframe thead th {\n",
       "        text-align: right;\n",
       "    }\n",
       "</style>\n",
       "<table border=\"1\" class=\"dataframe\">\n",
       "  <thead>\n",
       "    <tr style=\"text-align: right;\">\n",
       "      <th></th>\n",
       "      <th>lokasi</th>\n",
       "      <th>luas_bangunan</th>\n",
       "      <th>luas_tanah</th>\n",
       "      <th>sertifikat</th>\n",
       "      <th>furnish</th>\n",
       "      <th>kamar_tidur</th>\n",
       "      <th>kamar_mandi</th>\n",
       "      <th>listrik</th>\n",
       "      <th>kamar_pembantu</th>\n",
       "    </tr>\n",
       "  </thead>\n",
       "  <tbody>\n",
       "    <tr>\n",
       "      <th>0</th>\n",
       "      <td>Sungai Pinang</td>\n",
       "      <td>218.0</td>\n",
       "      <td>180.0</td>\n",
       "      <td>SHM</td>\n",
       "      <td>Semi-furnished</td>\n",
       "      <td>3</td>\n",
       "      <td>3</td>\n",
       "      <td>4400.0</td>\n",
       "      <td>1</td>\n",
       "    </tr>\n",
       "    <tr>\n",
       "      <th>1</th>\n",
       "      <td>Sungai Pinang</td>\n",
       "      <td>250.0</td>\n",
       "      <td>300.0</td>\n",
       "      <td>SHM</td>\n",
       "      <td>Non-furnished</td>\n",
       "      <td>4</td>\n",
       "      <td>2</td>\n",
       "      <td>1300.0</td>\n",
       "      <td>0</td>\n",
       "    </tr>\n",
       "    <tr>\n",
       "      <th>2</th>\n",
       "      <td>Samarinda Kota</td>\n",
       "      <td>350.0</td>\n",
       "      <td>558.0</td>\n",
       "      <td>SHM</td>\n",
       "      <td>Non-furnished</td>\n",
       "      <td>10</td>\n",
       "      <td>6</td>\n",
       "      <td>3500.0</td>\n",
       "      <td>0</td>\n",
       "    </tr>\n",
       "    <tr>\n",
       "      <th>3</th>\n",
       "      <td>Samarinda Seberang</td>\n",
       "      <td>90.0</td>\n",
       "      <td>200.0</td>\n",
       "      <td>SHM</td>\n",
       "      <td>Fully-furnished</td>\n",
       "      <td>3</td>\n",
       "      <td>2</td>\n",
       "      <td>1300.0</td>\n",
       "      <td>0</td>\n",
       "    </tr>\n",
       "    <tr>\n",
       "      <th>4</th>\n",
       "      <td>Samarinda Kota</td>\n",
       "      <td>90.0</td>\n",
       "      <td>200.0</td>\n",
       "      <td>SHM</td>\n",
       "      <td>Fully-furnished</td>\n",
       "      <td>4</td>\n",
       "      <td>2</td>\n",
       "      <td>1300.0</td>\n",
       "      <td>0</td>\n",
       "    </tr>\n",
       "    <tr>\n",
       "      <th>...</th>\n",
       "      <td>...</td>\n",
       "      <td>...</td>\n",
       "      <td>...</td>\n",
       "      <td>...</td>\n",
       "      <td>...</td>\n",
       "      <td>...</td>\n",
       "      <td>...</td>\n",
       "      <td>...</td>\n",
       "      <td>...</td>\n",
       "    </tr>\n",
       "    <tr>\n",
       "      <th>439</th>\n",
       "      <td>Sungai Pinang</td>\n",
       "      <td>84.0</td>\n",
       "      <td>105.0</td>\n",
       "      <td>HGB</td>\n",
       "      <td>Non-furnished</td>\n",
       "      <td>3</td>\n",
       "      <td>2</td>\n",
       "      <td>2200.0</td>\n",
       "      <td>0</td>\n",
       "    </tr>\n",
       "    <tr>\n",
       "      <th>440</th>\n",
       "      <td>Samarinda Ilir</td>\n",
       "      <td>200.0</td>\n",
       "      <td>251.0</td>\n",
       "      <td>SHM</td>\n",
       "      <td>Non-furnished</td>\n",
       "      <td>13</td>\n",
       "      <td>5</td>\n",
       "      <td>2200.0</td>\n",
       "      <td>0</td>\n",
       "    </tr>\n",
       "    <tr>\n",
       "      <th>441</th>\n",
       "      <td>Samarinda Ulu</td>\n",
       "      <td>200.0</td>\n",
       "      <td>300.0</td>\n",
       "      <td>SHM</td>\n",
       "      <td>Non-furnished</td>\n",
       "      <td>5</td>\n",
       "      <td>4</td>\n",
       "      <td>2200.0</td>\n",
       "      <td>0</td>\n",
       "    </tr>\n",
       "    <tr>\n",
       "      <th>442</th>\n",
       "      <td>Samarinda Ulu</td>\n",
       "      <td>155.0</td>\n",
       "      <td>330.0</td>\n",
       "      <td>SHM</td>\n",
       "      <td>Non-furnished</td>\n",
       "      <td>4</td>\n",
       "      <td>4</td>\n",
       "      <td>3500.0</td>\n",
       "      <td>0</td>\n",
       "    </tr>\n",
       "    <tr>\n",
       "      <th>443</th>\n",
       "      <td>Sungai Kunjang</td>\n",
       "      <td>96.0</td>\n",
       "      <td>200.0</td>\n",
       "      <td>Lain-lain</td>\n",
       "      <td>Non-furnished</td>\n",
       "      <td>2</td>\n",
       "      <td>1</td>\n",
       "      <td>900.0</td>\n",
       "      <td>0</td>\n",
       "    </tr>\n",
       "  </tbody>\n",
       "</table>\n",
       "<p>444 rows × 9 columns</p>\n",
       "</div>"
      ],
      "text/plain": [
       "                   lokasi  luas_bangunan  luas_tanah sertifikat  \\\n",
       "0           Sungai Pinang          218.0       180.0        SHM   \n",
       "1           Sungai Pinang          250.0       300.0        SHM   \n",
       "2          Samarinda Kota          350.0       558.0        SHM   \n",
       "3      Samarinda Seberang           90.0       200.0        SHM   \n",
       "4          Samarinda Kota           90.0       200.0        SHM   \n",
       "..                    ...            ...         ...        ...   \n",
       "439         Sungai Pinang           84.0       105.0        HGB   \n",
       "440        Samarinda Ilir          200.0       251.0        SHM   \n",
       "441         Samarinda Ulu          200.0       300.0        SHM   \n",
       "442         Samarinda Ulu          155.0       330.0        SHM   \n",
       "443        Sungai Kunjang           96.0       200.0  Lain-lain   \n",
       "\n",
       "             furnish  kamar_tidur  kamar_mandi  listrik  kamar_pembantu  \n",
       "0     Semi-furnished            3            3   4400.0               1  \n",
       "1      Non-furnished            4            2   1300.0               0  \n",
       "2      Non-furnished           10            6   3500.0               0  \n",
       "3    Fully-furnished            3            2   1300.0               0  \n",
       "4    Fully-furnished            4            2   1300.0               0  \n",
       "..               ...          ...          ...      ...             ...  \n",
       "439    Non-furnished            3            2   2200.0               0  \n",
       "440    Non-furnished           13            5   2200.0               0  \n",
       "441    Non-furnished            5            4   2200.0               0  \n",
       "442    Non-furnished            4            4   3500.0               0  \n",
       "443    Non-furnished            2            1    900.0               0  \n",
       "\n",
       "[444 rows x 9 columns]"
      ]
     },
     "execution_count": 16,
     "metadata": {},
     "output_type": "execute_result"
    }
   ],
   "source": [
    "X = df.drop(['harga'], axis=1)\n",
    "y = df['harga']\n",
    "X"
   ]
  },
  {
   "cell_type": "markdown",
   "metadata": {},
   "source": [
    "## 4.2. Spliting between Train-Set and Test-Set"
   ]
  },
  {
   "cell_type": "code",
   "execution_count": 17,
   "metadata": {},
   "outputs": [
    {
     "name": "stdout",
     "output_type": "stream",
     "text": [
      "x Train Size:  (355, 9)\n",
      "x Test Size:  (89, 9)\n",
      "y Train Size:  (355,)\n",
      "y Test Size:  (89,)\n"
     ]
    }
   ],
   "source": [
    "X_train, X_test, y_train, y_test = train_test_split(X, y, test_size = 0.2, random_state = 40)\n",
    "print('x Train Size: ', X_train.shape)\n",
    "print('x Test Size: ', X_test.shape)\n",
    "print('y Train Size: ', y_train.shape)\n",
    "print('y Test Size: ', y_test.shape)"
   ]
  },
  {
   "cell_type": "markdown",
   "metadata": {},
   "source": [
    "## 4.3. Handling Outlier"
   ]
  },
  {
   "cell_type": "code",
   "execution_count": 18,
   "metadata": {},
   "outputs": [
    {
     "data": {
      "text/html": [
       "<div>\n",
       "<style scoped>\n",
       "    .dataframe tbody tr th:only-of-type {\n",
       "        vertical-align: middle;\n",
       "    }\n",
       "\n",
       "    .dataframe tbody tr th {\n",
       "        vertical-align: top;\n",
       "    }\n",
       "\n",
       "    .dataframe thead th {\n",
       "        text-align: right;\n",
       "    }\n",
       "</style>\n",
       "<table border=\"1\" class=\"dataframe\">\n",
       "  <thead>\n",
       "    <tr style=\"text-align: right;\">\n",
       "      <th></th>\n",
       "      <th>Column Name</th>\n",
       "      <th>Skewness</th>\n",
       "    </tr>\n",
       "  </thead>\n",
       "  <tbody>\n",
       "    <tr>\n",
       "      <th>0</th>\n",
       "      <td>luas_bangunan</td>\n",
       "      <td>6.628342</td>\n",
       "    </tr>\n",
       "    <tr>\n",
       "      <th>1</th>\n",
       "      <td>luas_tanah</td>\n",
       "      <td>12.133426</td>\n",
       "    </tr>\n",
       "    <tr>\n",
       "      <th>2</th>\n",
       "      <td>kamar_tidur</td>\n",
       "      <td>18.488445</td>\n",
       "    </tr>\n",
       "    <tr>\n",
       "      <th>3</th>\n",
       "      <td>kamar_mandi</td>\n",
       "      <td>9.776352</td>\n",
       "    </tr>\n",
       "    <tr>\n",
       "      <th>4</th>\n",
       "      <td>listrik</td>\n",
       "      <td>3.887255</td>\n",
       "    </tr>\n",
       "    <tr>\n",
       "      <th>5</th>\n",
       "      <td>kamar_pembantu</td>\n",
       "      <td>4.535770</td>\n",
       "    </tr>\n",
       "  </tbody>\n",
       "</table>\n",
       "</div>"
      ],
      "text/plain": [
       "      Column Name   Skewness\n",
       "0   luas_bangunan   6.628342\n",
       "1      luas_tanah  12.133426\n",
       "2     kamar_tidur  18.488445\n",
       "3     kamar_mandi   9.776352\n",
       "4         listrik   3.887255\n",
       "5  kamar_pembantu   4.535770"
      ]
     },
     "execution_count": 18,
     "metadata": {},
     "output_type": "execute_result"
    }
   ],
   "source": [
    "num_outlier = ['luas_bangunan']\n",
    "\n",
    "listItem= []\n",
    "\n",
    "for col in num_cols:\n",
    "  listItem.append([col, X_train[col].skew()])\n",
    "\n",
    "pd.DataFrame(columns=['Column Name', 'Skewness'], data= listItem)"
   ]
  },
  {
   "cell_type": "code",
   "execution_count": 27,
   "metadata": {},
   "outputs": [],
   "source": [
    "winsoriser = Winsorizer(capping_method='iqr',\n",
    "                            tail='both',\n",
    "                            fold=1,\n",
    "                            variables=['kamar_tidur','kamar_mandi','luas_tanah','luas_bangunan','listrik'],\n",
    "                            missing_values='ignore')\n",
    "\n",
    "X_train_capped = winsoriser.fit_transform(X_train)\n",
    "X_test_capped = winsoriser.transform(X_test)"
   ]
  },
  {
   "cell_type": "code",
   "execution_count": 24,
   "metadata": {},
   "outputs": [],
   "source": [
    "def diagnostic_plots(df, variable):\n",
    "    # Define figure size\n",
    "    plt.figure(figsize=(16, 4))\n",
    "\n",
    "    # Histogram\n",
    "    plt.subplot(1, 2, 1)\n",
    "    sns.histplot(df[variable], bins=30)\n",
    "    plt.title('Histogram')\n",
    "\n",
    "    # Boxplot\n",
    "    plt.subplot(1, 2, 2)\n",
    "    sns.boxplot(y=df[variable])\n",
    "    plt.title('Boxplot')\n",
    "\n",
    "    plt.show()"
   ]
  },
  {
   "cell_type": "code",
   "execution_count": 28,
   "metadata": {},
   "outputs": [
    {
     "name": "stdout",
     "output_type": "stream",
     "text": [
      "luas_bangunan - Before Capping\n"
     ]
    },
    {
     "name": "stderr",
     "output_type": "stream",
     "text": [
      "c:\\Users\\YOGA\\anaconda3\\envs\\phase1\\Lib\\site-packages\\seaborn\\_oldcore.py:1119: FutureWarning: use_inf_as_na option is deprecated and will be removed in a future version. Convert inf values to NaN before operating instead.\n",
      "  with pd.option_context('mode.use_inf_as_na', True):\n"
     ]
    },
    {
     "data": {
      "image/png": "[encoded data removed]",
      "text/plain": [
       "<Figure size 1600x400 with 2 Axes>"
      ]
     },
     "metadata": {},
     "output_type": "display_data"
    },
    {
     "name": "stdout",
     "output_type": "stream",
     "text": [
      "\n",
      "luas_bangunan - After Capping\n"
     ]
    },
    {
     "name": "stderr",
     "output_type": "stream",
     "text": [
      "c:\\Users\\YOGA\\anaconda3\\envs\\phase1\\Lib\\site-packages\\seaborn\\_oldcore.py:1119: FutureWarning: use_inf_as_na option is deprecated and will be removed in a future version. Convert inf values to NaN before operating instead.\n",
      "  with pd.option_context('mode.use_inf_as_na', True):\n"
     ]
    },
    {
     "data": {
      "image/png": "[encoded data removed]",
      "text/plain": [
       "<Figure size 1600x400 with 2 Axes>"
      ]
     },
     "metadata": {},
     "output_type": "display_data"
    },
    {
     "name": "stdout",
     "output_type": "stream",
     "text": [
      "luas_tanah - Before Capping\n"
     ]
    },
    {
     "name": "stderr",
     "output_type": "stream",
     "text": [
      "c:\\Users\\YOGA\\anaconda3\\envs\\phase1\\Lib\\site-packages\\seaborn\\_oldcore.py:1119: FutureWarning: use_inf_as_na option is deprecated and will be removed in a future version. Convert inf values to NaN before operating instead.\n",
      "  with pd.option_context('mode.use_inf_as_na', True):\n"
     ]
    },
    {
     "data": {
      "image/png": "[encoded data removed]",
      "text/plain": [
       "<Figure size 1600x400 with 2 Axes>"
      ]
     },
     "metadata": {},
     "output_type": "display_data"
    },
    {
     "name": "stdout",
     "output_type": "stream",
     "text": [
      "\n",
      "luas_tanah - After Capping\n"
     ]
    },
    {
     "name": "stderr",
     "output_type": "stream",
     "text": [
      "c:\\Users\\YOGA\\anaconda3\\envs\\phase1\\Lib\\site-packages\\seaborn\\_oldcore.py:1119: FutureWarning: use_inf_as_na option is deprecated and will be removed in a future version. Convert inf values to NaN before operating instead.\n",
      "  with pd.option_context('mode.use_inf_as_na', True):\n"
     ]
    },
    {
     "data": {
      "image/png": "[encoded data removed]",
      "text/plain": [
       "<Figure size 1600x400 with 2 Axes>"
      ]
     },
     "metadata": {},
     "output_type": "display_data"
    },
    {
     "name": "stdout",
     "output_type": "stream",
     "text": [
      "kamar_tidur - Before Capping\n"
     ]
    },
    {
     "name": "stderr",
     "output_type": "stream",
     "text": [
      "c:\\Users\\YOGA\\anaconda3\\envs\\phase1\\Lib\\site-packages\\seaborn\\_oldcore.py:1119: FutureWarning: use_inf_as_na option is deprecated and will be removed in a future version. Convert inf values to NaN before operating instead.\n",
      "  with pd.option_context('mode.use_inf_as_na', True):\n"
     ]
    },
    {
     "data": {
      "image/png": "[encoded data removed]",
      "text/plain": [
       "<Figure size 1600x400 with 2 Axes>"
      ]
     },
     "metadata": {},
     "output_type": "display_data"
    },
    {
     "name": "stdout",
     "output_type": "stream",
     "text": [
      "\n",
      "kamar_tidur - After Capping\n"
     ]
    },
    {
     "name": "stderr",
     "output_type": "stream",
     "text": [
      "c:\\Users\\YOGA\\anaconda3\\envs\\phase1\\Lib\\site-packages\\seaborn\\_oldcore.py:1119: FutureWarning: use_inf_as_na option is deprecated and will be removed in a future version. Convert inf values to NaN before operating instead.\n",
      "  with pd.option_context('mode.use_inf_as_na', True):\n"
     ]
    },
    {
     "data": {
      "image/png": "[encoded data removed]",
      "text/plain": [
       "<Figure size 1600x400 with 2 Axes>"
      ]
     },
     "metadata": {},
     "output_type": "display_data"
    },
    {
     "name": "stdout",
     "output_type": "stream",
     "text": [
      "kamar_mandi - Before Capping\n"
     ]
    },
    {
     "name": "stderr",
     "output_type": "stream",
     "text": [
      "c:\\Users\\YOGA\\anaconda3\\envs\\phase1\\Lib\\site-packages\\seaborn\\_oldcore.py:1119: FutureWarning: use_inf_as_na option is deprecated and will be removed in a future version. Convert inf values to NaN before operating instead.\n",
      "  with pd.option_context('mode.use_inf_as_na', True):\n"
     ]
    },
    {
     "data": {
      "image/png": "[encoded data removed]",
      "text/plain": [
       "<Figure size 1600x400 with 2 Axes>"
      ]
     },
     "metadata": {},
     "output_type": "display_data"
    },
    {
     "name": "stdout",
     "output_type": "stream",
     "text": [
      "\n",
      "kamar_mandi - After Capping\n"
     ]
    },
    {
     "name": "stderr",
     "output_type": "stream",
     "text": [
      "c:\\Users\\YOGA\\anaconda3\\envs\\phase1\\Lib\\site-packages\\seaborn\\_oldcore.py:1119: FutureWarning: use_inf_as_na option is deprecated and will be removed in a future version. Convert inf values to NaN before operating instead.\n",
      "  with pd.option_context('mode.use_inf_as_na', True):\n"
     ]
    },
    {
     "data": {
      "image/png": "[encoded data removed]",
      "text/plain": [
       "<Figure size 1600x400 with 2 Axes>"
      ]
     },
     "metadata": {},
     "output_type": "display_data"
    },
    {
     "name": "stdout",
     "output_type": "stream",
     "text": [
      "listrik - Before Capping\n"
     ]
    },
    {
     "name": "stderr",
     "output_type": "stream",
     "text": [
      "c:\\Users\\YOGA\\anaconda3\\envs\\phase1\\Lib\\site-packages\\seaborn\\_oldcore.py:1119: FutureWarning: use_inf_as_na option is deprecated and will be removed in a future version. Convert inf values to NaN before operating instead.\n",
      "  with pd.option_context('mode.use_inf_as_na', True):\n"
     ]
    },
    {
     "data": {
      "image/png": "[encoded data removed]",
      "text/plain": [
       "<Figure size 1600x400 with 2 Axes>"
      ]
     },
     "metadata": {},
     "output_type": "display_data"
    },
    {
     "name": "stdout",
     "output_type": "stream",
     "text": [
      "\n",
      "listrik - After Capping\n"
     ]
    },
    {
     "name": "stderr",
     "output_type": "stream",
     "text": [
      "c:\\Users\\YOGA\\anaconda3\\envs\\phase1\\Lib\\site-packages\\seaborn\\_oldcore.py:1119: FutureWarning: use_inf_as_na option is deprecated and will be removed in a future version. Convert inf values to NaN before operating instead.\n",
      "  with pd.option_context('mode.use_inf_as_na', True):\n"
     ]
    },
    {
     "data": {
      "image/png": "[encoded data removed]",
      "text/plain": [
       "<Figure size 1600x400 with 2 Axes>"
      ]
     },
     "metadata": {},
     "output_type": "display_data"
    },
    {
     "name": "stdout",
     "output_type": "stream",
     "text": [
      "kamar_pembantu - Before Capping\n"
     ]
    },
    {
     "name": "stderr",
     "output_type": "stream",
     "text": [
      "c:\\Users\\YOGA\\anaconda3\\envs\\phase1\\Lib\\site-packages\\seaborn\\_oldcore.py:1119: FutureWarning: use_inf_as_na option is deprecated and will be removed in a future version. Convert inf values to NaN before operating instead.\n",
      "  with pd.option_context('mode.use_inf_as_na', True):\n"
     ]
    },
    {
     "data": {
      "image/png": "[encoded data removed]",
      "text/plain": [
       "<Figure size 1600x400 with 2 Axes>"
      ]
     },
     "metadata": {},
     "output_type": "display_data"
    },
    {
     "name": "stdout",
     "output_type": "stream",
     "text": [
      "\n",
      "kamar_pembantu - After Capping\n"
     ]
    },
    {
     "name": "stderr",
     "output_type": "stream",
     "text": [
      "c:\\Users\\YOGA\\anaconda3\\envs\\phase1\\Lib\\site-packages\\seaborn\\_oldcore.py:1119: FutureWarning: use_inf_as_na option is deprecated and will be removed in a future version. Convert inf values to NaN before operating instead.\n",
      "  with pd.option_context('mode.use_inf_as_na', True):\n"
     ]
    },
    {
     "data": {
      "image/png": "[encoded data removed]",
      "text/plain": [
       "<Figure size 1600x400 with 2 Axes>"
      ]
     },
     "metadata": {},
     "output_type": "display_data"
    }
   ],
   "source": [
    "# Check the distribution before and after capping\n",
    "for col in num_cols:\n",
    "  print(f'{col} - Before Capping')\n",
    "  diagnostic_plots(X_train, col)\n",
    "\n",
    "  print(f'\\n{col} - After Capping')\n",
    "  diagnostic_plots(X_train_capped, col)"
   ]
  },
  {
   "cell_type": "code",
   "execution_count": 31,
   "metadata": {},
   "outputs": [
    {
     "data": {
      "text/plain": [
       "lokasi            0\n",
       "luas_bangunan     0\n",
       "luas_tanah        0\n",
       "sertifikat        0\n",
       "furnish           0\n",
       "kamar_tidur       0\n",
       "kamar_mandi       0\n",
       "listrik           0\n",
       "kamar_pembantu    0\n",
       "dtype: int64"
      ]
     },
     "execution_count": 31,
     "metadata": {},
     "output_type": "execute_result"
    }
   ],
   "source": [
    "X_train_capped.isnull().sum()"
   ]
  },
  {
   "cell_type": "code",
   "execution_count": 32,
   "metadata": {},
   "outputs": [
    {
     "data": {
      "text/plain": [
       "lokasi            0\n",
       "luas_bangunan     0\n",
       "luas_tanah        0\n",
       "sertifikat        0\n",
       "furnish           0\n",
       "kamar_tidur       0\n",
       "kamar_mandi       0\n",
       "listrik           0\n",
       "kamar_pembantu    0\n",
       "dtype: int64"
      ]
     },
     "execution_count": 32,
     "metadata": {},
     "output_type": "execute_result"
    }
   ],
   "source": [
    "X_test_capped.isnull().sum()"
   ]
  },
  {
   "cell_type": "markdown",
   "metadata": {},
   "source": [
    "## 4.4. Split between Num Col and Cat Col"
   ]
  },
  {
   "cell_type": "code",
   "execution_count": 39,
   "metadata": {},
   "outputs": [
    {
     "name": "stdout",
     "output_type": "stream",
     "text": [
      "Numeric Columns:  ['luas_bangunan', 'luas_tanah', 'kamar_tidur', 'kamar_mandi', 'listrik', 'kamar_pembantu']\n",
      "Categorical Columns:  ['lokasi', 'sertifikat', 'furnish']\n"
     ]
    }
   ],
   "source": [
    "#Get numeric and categorical column\n",
    "\n",
    "num_columns = X_train_capped.select_dtypes(include = np.number).columns.tolist()\n",
    "cat_columns = X_train_capped.select_dtypes(include = ['object']).columns.tolist()\n",
    "\n",
    "print('Numeric Columns: ', num_columns)\n",
    "print('Categorical Columns: ', cat_columns)"
   ]
  },
  {
   "cell_type": "code",
   "execution_count": 40,
   "metadata": {},
   "outputs": [
    {
     "data": {
      "text/html": [
       "<div>\n",
       "<style scoped>\n",
       "    .dataframe tbody tr th:only-of-type {\n",
       "        vertical-align: middle;\n",
       "    }\n",
       "\n",
       "    .dataframe tbody tr th {\n",
       "        vertical-align: top;\n",
       "    }\n",
       "\n",
       "    .dataframe thead th {\n",
       "        text-align: right;\n",
       "    }\n",
       "</style>\n",
       "<table border=\"1\" class=\"dataframe\">\n",
       "  <thead>\n",
       "    <tr style=\"text-align: right;\">\n",
       "      <th></th>\n",
       "      <th>luas_bangunan</th>\n",
       "      <th>luas_tanah</th>\n",
       "      <th>kamar_tidur</th>\n",
       "      <th>kamar_mandi</th>\n",
       "      <th>listrik</th>\n",
       "      <th>kamar_pembantu</th>\n",
       "    </tr>\n",
       "  </thead>\n",
       "  <tbody>\n",
       "    <tr>\n",
       "      <th>291</th>\n",
       "      <td>60.0</td>\n",
       "      <td>90.0</td>\n",
       "      <td>3</td>\n",
       "      <td>2</td>\n",
       "      <td>2200.0</td>\n",
       "      <td>0</td>\n",
       "    </tr>\n",
       "    <tr>\n",
       "      <th>415</th>\n",
       "      <td>380.0</td>\n",
       "      <td>400.0</td>\n",
       "      <td>5</td>\n",
       "      <td>3</td>\n",
       "      <td>3100.0</td>\n",
       "      <td>0</td>\n",
       "    </tr>\n",
       "    <tr>\n",
       "      <th>65</th>\n",
       "      <td>396.0</td>\n",
       "      <td>419.0</td>\n",
       "      <td>5</td>\n",
       "      <td>4</td>\n",
       "      <td>3100.0</td>\n",
       "      <td>0</td>\n",
       "    </tr>\n",
       "    <tr>\n",
       "      <th>435</th>\n",
       "      <td>39.0</td>\n",
       "      <td>72.0</td>\n",
       "      <td>2</td>\n",
       "      <td>1</td>\n",
       "      <td>1300.0</td>\n",
       "      <td>0</td>\n",
       "    </tr>\n",
       "    <tr>\n",
       "      <th>336</th>\n",
       "      <td>54.0</td>\n",
       "      <td>100.0</td>\n",
       "      <td>2</td>\n",
       "      <td>1</td>\n",
       "      <td>1300.0</td>\n",
       "      <td>0</td>\n",
       "    </tr>\n",
       "    <tr>\n",
       "      <th>...</th>\n",
       "      <td>...</td>\n",
       "      <td>...</td>\n",
       "      <td>...</td>\n",
       "      <td>...</td>\n",
       "      <td>...</td>\n",
       "      <td>...</td>\n",
       "    </tr>\n",
       "    <tr>\n",
       "      <th>306</th>\n",
       "      <td>150.0</td>\n",
       "      <td>241.0</td>\n",
       "      <td>3</td>\n",
       "      <td>3</td>\n",
       "      <td>2200.0</td>\n",
       "      <td>0</td>\n",
       "    </tr>\n",
       "    <tr>\n",
       "      <th>165</th>\n",
       "      <td>50.0</td>\n",
       "      <td>105.0</td>\n",
       "      <td>2</td>\n",
       "      <td>2</td>\n",
       "      <td>2200.0</td>\n",
       "      <td>0</td>\n",
       "    </tr>\n",
       "    <tr>\n",
       "      <th>7</th>\n",
       "      <td>128.0</td>\n",
       "      <td>225.0</td>\n",
       "      <td>3</td>\n",
       "      <td>2</td>\n",
       "      <td>1300.0</td>\n",
       "      <td>0</td>\n",
       "    </tr>\n",
       "    <tr>\n",
       "      <th>219</th>\n",
       "      <td>54.0</td>\n",
       "      <td>100.0</td>\n",
       "      <td>2</td>\n",
       "      <td>1</td>\n",
       "      <td>1300.0</td>\n",
       "      <td>0</td>\n",
       "    </tr>\n",
       "    <tr>\n",
       "      <th>326</th>\n",
       "      <td>93.0</td>\n",
       "      <td>140.0</td>\n",
       "      <td>5</td>\n",
       "      <td>3</td>\n",
       "      <td>2200.0</td>\n",
       "      <td>0</td>\n",
       "    </tr>\n",
       "  </tbody>\n",
       "</table>\n",
       "<p>355 rows × 6 columns</p>\n",
       "</div>"
      ],
      "text/plain": [
       "     luas_bangunan  luas_tanah  kamar_tidur  kamar_mandi  listrik  \\\n",
       "291           60.0        90.0            3            2   2200.0   \n",
       "415          380.0       400.0            5            3   3100.0   \n",
       "65           396.0       419.0            5            4   3100.0   \n",
       "435           39.0        72.0            2            1   1300.0   \n",
       "336           54.0       100.0            2            1   1300.0   \n",
       "..             ...         ...          ...          ...      ...   \n",
       "306          150.0       241.0            3            3   2200.0   \n",
       "165           50.0       105.0            2            2   2200.0   \n",
       "7            128.0       225.0            3            2   1300.0   \n",
       "219           54.0       100.0            2            1   1300.0   \n",
       "326           93.0       140.0            5            3   2200.0   \n",
       "\n",
       "     kamar_pembantu  \n",
       "291               0  \n",
       "415               0  \n",
       "65                0  \n",
       "435               0  \n",
       "336               0  \n",
       "..              ...  \n",
       "306               0  \n",
       "165               0  \n",
       "7                 0  \n",
       "219               0  \n",
       "326               0  \n",
       "\n",
       "[355 rows x 6 columns]"
      ]
     },
     "execution_count": 40,
     "metadata": {},
     "output_type": "execute_result"
    }
   ],
   "source": [
    "# Split numerical columns and categorical columns\n",
    "\n",
    "X_train_num = X_train_capped[num_columns]\n",
    "X_train_cat = X_train_capped[cat_columns]\n",
    "\n",
    "X_test_num = X_test_capped[num_columns]\n",
    "X_test_cat = X_test_capped[cat_columns]\n",
    "\n",
    "X_train_num"
   ]
  },
  {
   "cell_type": "code",
   "execution_count": 43,
   "metadata": {},
   "outputs": [
    {
     "data": {
      "text/html": [
       "<div>\n",
       "<style scoped>\n",
       "    .dataframe tbody tr th:only-of-type {\n",
       "        vertical-align: middle;\n",
       "    }\n",
       "\n",
       "    .dataframe tbody tr th {\n",
       "        vertical-align: top;\n",
       "    }\n",
       "\n",
       "    .dataframe thead th {\n",
       "        text-align: right;\n",
       "    }\n",
       "</style>\n",
       "<table border=\"1\" class=\"dataframe\">\n",
       "  <thead>\n",
       "    <tr style=\"text-align: right;\">\n",
       "      <th></th>\n",
       "      <th>luas_bangunan</th>\n",
       "      <th>luas_tanah</th>\n",
       "      <th>kamar_tidur</th>\n",
       "      <th>kamar_mandi</th>\n",
       "      <th>listrik</th>\n",
       "      <th>kamar_pembantu</th>\n",
       "    </tr>\n",
       "  </thead>\n",
       "  <tbody>\n",
       "    <tr>\n",
       "      <th>291</th>\n",
       "      <td>60.0</td>\n",
       "      <td>90.0</td>\n",
       "      <td>3</td>\n",
       "      <td>2</td>\n",
       "      <td>2200.0</td>\n",
       "      <td>0</td>\n",
       "    </tr>\n",
       "    <tr>\n",
       "      <th>415</th>\n",
       "      <td>380.0</td>\n",
       "      <td>400.0</td>\n",
       "      <td>5</td>\n",
       "      <td>3</td>\n",
       "      <td>3100.0</td>\n",
       "      <td>0</td>\n",
       "    </tr>\n",
       "    <tr>\n",
       "      <th>65</th>\n",
       "      <td>396.0</td>\n",
       "      <td>419.0</td>\n",
       "      <td>5</td>\n",
       "      <td>4</td>\n",
       "      <td>3100.0</td>\n",
       "      <td>0</td>\n",
       "    </tr>\n",
       "    <tr>\n",
       "      <th>435</th>\n",
       "      <td>39.0</td>\n",
       "      <td>72.0</td>\n",
       "      <td>2</td>\n",
       "      <td>1</td>\n",
       "      <td>1300.0</td>\n",
       "      <td>0</td>\n",
       "    </tr>\n",
       "    <tr>\n",
       "      <th>336</th>\n",
       "      <td>54.0</td>\n",
       "      <td>100.0</td>\n",
       "      <td>2</td>\n",
       "      <td>1</td>\n",
       "      <td>1300.0</td>\n",
       "      <td>0</td>\n",
       "    </tr>\n",
       "    <tr>\n",
       "      <th>...</th>\n",
       "      <td>...</td>\n",
       "      <td>...</td>\n",
       "      <td>...</td>\n",
       "      <td>...</td>\n",
       "      <td>...</td>\n",
       "      <td>...</td>\n",
       "    </tr>\n",
       "    <tr>\n",
       "      <th>306</th>\n",
       "      <td>150.0</td>\n",
       "      <td>241.0</td>\n",
       "      <td>3</td>\n",
       "      <td>3</td>\n",
       "      <td>2200.0</td>\n",
       "      <td>0</td>\n",
       "    </tr>\n",
       "    <tr>\n",
       "      <th>165</th>\n",
       "      <td>50.0</td>\n",
       "      <td>105.0</td>\n",
       "      <td>2</td>\n",
       "      <td>2</td>\n",
       "      <td>2200.0</td>\n",
       "      <td>0</td>\n",
       "    </tr>\n",
       "    <tr>\n",
       "      <th>7</th>\n",
       "      <td>128.0</td>\n",
       "      <td>225.0</td>\n",
       "      <td>3</td>\n",
       "      <td>2</td>\n",
       "      <td>1300.0</td>\n",
       "      <td>0</td>\n",
       "    </tr>\n",
       "    <tr>\n",
       "      <th>219</th>\n",
       "      <td>54.0</td>\n",
       "      <td>100.0</td>\n",
       "      <td>2</td>\n",
       "      <td>1</td>\n",
       "      <td>1300.0</td>\n",
       "      <td>0</td>\n",
       "    </tr>\n",
       "    <tr>\n",
       "      <th>326</th>\n",
       "      <td>93.0</td>\n",
       "      <td>140.0</td>\n",
       "      <td>5</td>\n",
       "      <td>3</td>\n",
       "      <td>2200.0</td>\n",
       "      <td>0</td>\n",
       "    </tr>\n",
       "  </tbody>\n",
       "</table>\n",
       "<p>355 rows × 6 columns</p>\n",
       "</div>"
      ],
      "text/plain": [
       "     luas_bangunan  luas_tanah  kamar_tidur  kamar_mandi  listrik  \\\n",
       "291           60.0        90.0            3            2   2200.0   \n",
       "415          380.0       400.0            5            3   3100.0   \n",
       "65           396.0       419.0            5            4   3100.0   \n",
       "435           39.0        72.0            2            1   1300.0   \n",
       "336           54.0       100.0            2            1   1300.0   \n",
       "..             ...         ...          ...          ...      ...   \n",
       "306          150.0       241.0            3            3   2200.0   \n",
       "165           50.0       105.0            2            2   2200.0   \n",
       "7            128.0       225.0            3            2   1300.0   \n",
       "219           54.0       100.0            2            1   1300.0   \n",
       "326           93.0       140.0            5            3   2200.0   \n",
       "\n",
       "     kamar_pembantu  \n",
       "291               0  \n",
       "415               0  \n",
       "65                0  \n",
       "435               0  \n",
       "336               0  \n",
       "..              ...  \n",
       "306               0  \n",
       "165               0  \n",
       "7                 0  \n",
       "219               0  \n",
       "326               0  \n",
       "\n",
       "[355 rows x 6 columns]"
      ]
     },
     "execution_count": 43,
     "metadata": {},
     "output_type": "execute_result"
    }
   ],
   "source": [
    "X_train_num"
   ]
  },
  {
   "cell_type": "code",
   "execution_count": 44,
   "metadata": {},
   "outputs": [
    {
     "data": {
      "text/plain": [
       "291     800000\n",
       "415    1600000\n",
       "65     9300000\n",
       "435     499060\n",
       "336     788000\n",
       "        ...   \n",
       "306     900000\n",
       "165     500000\n",
       "7       950000\n",
       "219     828000\n",
       "326    2080000\n",
       "Name: harga, Length: 355, dtype: int64"
      ]
     },
     "execution_count": 44,
     "metadata": {},
     "output_type": "execute_result"
    }
   ],
   "source": [
    "y_train"
   ]
  },
  {
   "cell_type": "markdown",
   "metadata": {},
   "source": [
    "### 4.4.1. Feature Selection numerical columns"
   ]
  },
  {
   "cell_type": "code",
   "execution_count": 45,
   "metadata": {},
   "outputs": [
    {
     "data": {
      "text/html": [
       "<div>\n",
       "<style scoped>\n",
       "    .dataframe tbody tr th:only-of-type {\n",
       "        vertical-align: middle;\n",
       "    }\n",
       "\n",
       "    .dataframe tbody tr th {\n",
       "        vertical-align: top;\n",
       "    }\n",
       "\n",
       "    .dataframe thead th {\n",
       "        text-align: right;\n",
       "    }\n",
       "</style>\n",
       "<table border=\"1\" class=\"dataframe\">\n",
       "  <thead>\n",
       "    <tr style=\"text-align: right;\">\n",
       "      <th></th>\n",
       "      <th>nama kolom</th>\n",
       "      <th>hasil</th>\n",
       "    </tr>\n",
       "  </thead>\n",
       "  <tbody>\n",
       "    <tr>\n",
       "      <th>0</th>\n",
       "      <td>luas_bangunan</td>\n",
       "      <td>ada korelasi</td>\n",
       "    </tr>\n",
       "    <tr>\n",
       "      <th>1</th>\n",
       "      <td>luas_tanah</td>\n",
       "      <td>ada korelasi</td>\n",
       "    </tr>\n",
       "    <tr>\n",
       "      <th>2</th>\n",
       "      <td>kamar_tidur</td>\n",
       "      <td>ada korelasi</td>\n",
       "    </tr>\n",
       "    <tr>\n",
       "      <th>3</th>\n",
       "      <td>kamar_mandi</td>\n",
       "      <td>ada korelasi</td>\n",
       "    </tr>\n",
       "    <tr>\n",
       "      <th>4</th>\n",
       "      <td>listrik</td>\n",
       "      <td>ada korelasi</td>\n",
       "    </tr>\n",
       "    <tr>\n",
       "      <th>5</th>\n",
       "      <td>kamar_pembantu</td>\n",
       "      <td>ga ada korelasi</td>\n",
       "    </tr>\n",
       "  </tbody>\n",
       "</table>\n",
       "</div>"
      ],
      "text/plain": [
       "       nama kolom            hasil\n",
       "0   luas_bangunan     ada korelasi\n",
       "1      luas_tanah     ada korelasi\n",
       "2     kamar_tidur     ada korelasi\n",
       "3     kamar_mandi     ada korelasi\n",
       "4         listrik     ada korelasi\n",
       "5  kamar_pembantu  ga ada korelasi"
      ]
     },
     "execution_count": 45,
     "metadata": {},
     "output_type": "execute_result"
    }
   ],
   "source": [
    "# Feature selection Numerical columns\n",
    "p_values = []\n",
    "interpretasi = []\n",
    "cols = []\n",
    "\n",
    "for col in X_train_num.columns:\n",
    "  corr_coef, p_value = pearsonr(X_train_num[col], y_train)\n",
    "\n",
    "  p_values.append(p_value)\n",
    "  cols.append(col)\n",
    "\n",
    "  if p_value < 0.05:\n",
    "    interpretasi.append('ada korelasi')\n",
    "  else :\n",
    "    interpretasi.append('ga ada korelasi')\n",
    "\n",
    "pd.DataFrame({'nama kolom':cols,\n",
    "              'hasil': interpretasi})"
   ]
  },
  {
   "cell_type": "markdown",
   "metadata": {},
   "source": [
    "### 4.4.2. Feature Selection categorical columns"
   ]
  },
  {
   "cell_type": "code",
   "execution_count": 47,
   "metadata": {},
   "outputs": [
    {
     "data": {
      "text/html": [
       "<div>\n",
       "<style scoped>\n",
       "    .dataframe tbody tr th:only-of-type {\n",
       "        vertical-align: middle;\n",
       "    }\n",
       "\n",
       "    .dataframe tbody tr th {\n",
       "        vertical-align: top;\n",
       "    }\n",
       "\n",
       "    .dataframe thead th {\n",
       "        text-align: right;\n",
       "    }\n",
       "</style>\n",
       "<table border=\"1\" class=\"dataframe\">\n",
       "  <thead>\n",
       "    <tr style=\"text-align: right;\">\n",
       "      <th></th>\n",
       "      <th>lokasi</th>\n",
       "      <th>sertifikat</th>\n",
       "      <th>furnish</th>\n",
       "    </tr>\n",
       "  </thead>\n",
       "  <tbody>\n",
       "    <tr>\n",
       "      <th>291</th>\n",
       "      <td>Sungai Pinang</td>\n",
       "      <td>SHM</td>\n",
       "      <td>Non-furnished</td>\n",
       "    </tr>\n",
       "    <tr>\n",
       "      <th>415</th>\n",
       "      <td>Samarinda Kota</td>\n",
       "      <td>SHM</td>\n",
       "      <td>Semi-furnished</td>\n",
       "    </tr>\n",
       "    <tr>\n",
       "      <th>65</th>\n",
       "      <td>Samarinda Ulu</td>\n",
       "      <td>SHM</td>\n",
       "      <td>Non-furnished</td>\n",
       "    </tr>\n",
       "    <tr>\n",
       "      <th>435</th>\n",
       "      <td>Loa Janan Ilir</td>\n",
       "      <td>PPJB</td>\n",
       "      <td>Non-furnished</td>\n",
       "    </tr>\n",
       "    <tr>\n",
       "      <th>336</th>\n",
       "      <td>Samarinda Ulu</td>\n",
       "      <td>SHM</td>\n",
       "      <td>Non-furnished</td>\n",
       "    </tr>\n",
       "    <tr>\n",
       "      <th>...</th>\n",
       "      <td>...</td>\n",
       "      <td>...</td>\n",
       "      <td>...</td>\n",
       "    </tr>\n",
       "    <tr>\n",
       "      <th>306</th>\n",
       "      <td>Samarinda Ulu</td>\n",
       "      <td>SHM</td>\n",
       "      <td>Non-furnished</td>\n",
       "    </tr>\n",
       "    <tr>\n",
       "      <th>165</th>\n",
       "      <td>Samarinda Kota</td>\n",
       "      <td>SHM</td>\n",
       "      <td>Non-furnished</td>\n",
       "    </tr>\n",
       "    <tr>\n",
       "      <th>7</th>\n",
       "      <td>Sambutan</td>\n",
       "      <td>HGB</td>\n",
       "      <td>Non-furnished</td>\n",
       "    </tr>\n",
       "    <tr>\n",
       "      <th>219</th>\n",
       "      <td>Sungai Kunjang</td>\n",
       "      <td>SHM</td>\n",
       "      <td>Non-furnished</td>\n",
       "    </tr>\n",
       "    <tr>\n",
       "      <th>326</th>\n",
       "      <td>Sungai Pinang</td>\n",
       "      <td>SHM</td>\n",
       "      <td>Non-furnished</td>\n",
       "    </tr>\n",
       "  </tbody>\n",
       "</table>\n",
       "<p>355 rows × 3 columns</p>\n",
       "</div>"
      ],
      "text/plain": [
       "               lokasi sertifikat         furnish\n",
       "291     Sungai Pinang        SHM   Non-furnished\n",
       "415    Samarinda Kota        SHM  Semi-furnished\n",
       "65      Samarinda Ulu        SHM   Non-furnished\n",
       "435    Loa Janan Ilir       PPJB   Non-furnished\n",
       "336     Samarinda Ulu        SHM   Non-furnished\n",
       "..                ...        ...             ...\n",
       "306     Samarinda Ulu        SHM   Non-furnished\n",
       "165    Samarinda Kota        SHM   Non-furnished\n",
       "7            Sambutan        HGB   Non-furnished\n",
       "219    Sungai Kunjang        SHM   Non-furnished\n",
       "326     Sungai Pinang        SHM   Non-furnished\n",
       "\n",
       "[355 rows x 3 columns]"
      ]
     },
     "execution_count": 47,
     "metadata": {},
     "output_type": "execute_result"
    }
   ],
   "source": [
    "X_train_capped[cat_cols]"
   ]
  },
  {
   "cell_type": "markdown",
   "metadata": {},
   "source": [
    "Karena hanya ada 3 kolom kategorik, maka semua kolom akan digunakan menjadi fitur dalam model"
   ]
  },
  {
   "cell_type": "markdown",
   "metadata": {},
   "source": [
    "## 4.4.3. Column Transformer"
   ]
  },
  {
   "cell_type": "code",
   "execution_count": 52,
   "metadata": {},
   "outputs": [],
   "source": [
    "transformer = ColumnTransformer([\n",
    "    ('scaler', StandardScaler(), selector(dtype_exclude='object')),\n",
    "    ('encoding', OneHotEncoder(), selector(dtype_include='object'))\n",
    "])"
   ]
  },
  {
   "cell_type": "code",
   "execution_count": 75,
   "metadata": {},
   "outputs": [],
   "source": [
    "X_train_transformed = transformer.fit_transform(X_train)\n",
    "X_test_transformed = transformer.transform(X_test)"
   ]
  },
  {
   "cell_type": "markdown",
   "metadata": {},
   "source": [
    "# 5. Model Definition"
   ]
  },
  {
   "cell_type": "code",
   "execution_count": 68,
   "metadata": {},
   "outputs": [],
   "source": [
    "# Define model (default hyperparameter)\n",
    "models_def = {\n",
    "    'Linear_Regression': LinearRegression(),\n",
    "    'SVM': SVR(),\n",
    "    'KNN': KNeighborsRegressor(),\n",
    "    'Decision_Tree': DecisionTreeRegressor(),\n",
    "    'Random_Forest': RandomForestRegressor(),\n",
    "    'XGBoosting': xgb.XGBRegressor(objective='reg:squarederror')\n",
    "}"
   ]
  },
  {
   "cell_type": "markdown",
   "metadata": {},
   "source": [
    "# 6. Model Training"
   ]
  },
  {
   "cell_type": "code",
   "execution_count": 76,
   "metadata": {},
   "outputs": [
    {
     "name": "stdout",
     "output_type": "stream",
     "text": [
      "Model: Linear_Regression\n",
      "Training Score: 0.7675\n",
      "Testing Score: 0.3448\n",
      "Cross-Validation MAE: 2121425.9038\n",
      "\n",
      "Model: SVM\n",
      "Training Score: -0.0498\n",
      "Testing Score: -0.0142\n",
      "Cross-Validation MAE: 1777309.0619\n",
      "\n",
      "Model: KNN\n",
      "Training Score: 0.6129\n",
      "Testing Score: 0.3426\n",
      "Cross-Validation MAE: 1343288.6165\n",
      "\n",
      "Model: Decision_Tree\n",
      "Training Score: 0.9999\n",
      "Testing Score: 0.664\n",
      "Cross-Validation MAE: 1382965.903\n",
      "\n",
      "Model: Random_Forest\n",
      "Training Score: 0.9523\n",
      "Testing Score: 0.574\n",
      "Cross-Validation MAE: 1123922.5308\n",
      "\n",
      "Model: XGBoosting\n",
      "Training Score: 0.9998\n",
      "Testing Score: 0.5971\n",
      "Cross-Validation MAE: 1155835.7361\n",
      "\n"
     ]
    }
   ],
   "source": [
    "for model_name, model in models_def.items():\n",
    "    pipeline = Pipeline(steps=[\n",
    "        ('transformer', transformer),\n",
    "        ('model', model)\n",
    "    ])\n",
    "    \n",
    "    # Fit the pipeline on the training data\n",
    "    pipeline.fit(X_train, y_train)\n",
    "    \n",
    "    # Calculate training and testing scores\n",
    "    train_score = pipeline.score(X_train, y_train)\n",
    "    test_score = pipeline.score(X_test, y_test)\n",
    "    \n",
    "    print(f\"Model: {model_name}\")\n",
    "    print(f\"Training Score: {round(train_score, 4)}\")\n",
    "    print(f\"Testing Score: {round(test_score, 4)}\")\n",
    "    \n",
    "    scores = cross_val_score(pipeline, X_train, y_train, cv=3, scoring='neg_mean_absolute_error', n_jobs=-1)\n",
    "    mae = -np.mean(scores)\n",
    "    print(f\"Cross-Validation MAE: {round(mae, 4)}\\n\")"
   ]
  },
  {
   "cell_type": "markdown",
   "metadata": {},
   "source": [
    "# 7. Model Evaluation"
   ]
  },
  {
   "cell_type": "code",
   "execution_count": 80,
   "metadata": {},
   "outputs": [
    {
     "name": "stdout",
     "output_type": "stream",
     "text": [
      "Best parameters found:  {'max_depth': 20, 'min_samples_leaf': 1, 'min_samples_split': 2, 'n_estimators': 1200}\n",
      "Best MAE score:  1120900.5558724215\n"
     ]
    }
   ],
   "source": [
    "# Define the parameter grid\n",
    "param_grid = {\n",
    "    'n_estimators': [500, 1200, 1800, 2000],\n",
    "    'max_depth': [9, 20, 30, 40, 50],\n",
    "    'min_samples_split': [2, 3, 4],\n",
    "    'min_samples_leaf': [1, 2, 4]\n",
    "}\n",
    "\n",
    "# Initialize the Random Forest model\n",
    "rf_model = RandomForestRegressor(random_state=42)\n",
    "\n",
    "# Set up the GridSearchCV\n",
    "grid_search = GridSearchCV(estimator=rf_model, param_grid=param_grid,\n",
    "                           scoring='neg_mean_absolute_error', cv=3, n_jobs=-1)\n",
    "\n",
    "# Fit the GridSearchCV to find the best parameters\n",
    "grid_search.fit(X_train_transformed, y_train)\n",
    "\n",
    "# Print the best parameters and the best score\n",
    "print(\"Best parameters found: \", grid_search.best_params_)\n",
    "print(\"Best MAE score: \", -grid_search.best_score_)"
   ]
  },
  {
   "cell_type": "code",
   "execution_count": 83,
   "metadata": {},
   "outputs": [
    {
     "name": "stdout",
     "output_type": "stream",
     "text": [
      "Fitting 5 folds for each of 100 candidates, totalling 500 fits\n",
      "Best parameters found:  {'n_estimators': 1600, 'min_samples_split': 2, 'min_samples_leaf': 1, 'max_features': 'log2', 'max_depth': None, 'bootstrap': False}\n",
      "Best MAE score:  990508.6402758214\n"
     ]
    }
   ],
   "source": [
    "# Define the parameter grid for RandomizedSearchCV\n",
    "param_dist = {\n",
    "    'n_estimators': [int(x) for x in np.linspace(start=200, stop=2000, num=10)],\n",
    "    'max_depth': [int(x) for x in np.linspace(10, 110, num=11)] + [None],\n",
    "    'min_samples_split': [2, 5, 10],\n",
    "    'min_samples_leaf': [1, 2, 4],\n",
    "    'max_features': [None, 'sqrt', 'log2'],\n",
    "    'bootstrap': [True, False]\n",
    "}\n",
    "\n",
    "# Initialize the Random Forest model\n",
    "rf_model = RandomForestRegressor(random_state=42)\n",
    "\n",
    "# Set up the RandomizedSearchCV\n",
    "random_search = RandomizedSearchCV(estimator=rf_model, param_distributions=param_dist,\n",
    "                                   scoring='neg_mean_absolute_error', n_iter=100, cv=5,\n",
    "                                   verbose=2, random_state=42, n_jobs=-1)\n",
    "\n",
    "# Fit the RandomizedSearchCV to find the best parameters\n",
    "random_search.fit(X_train_transformed, y_train)\n",
    "\n",
    "# Print the best parameters and the best score\n",
    "print(\"Best parameters found: \", random_search.best_params_)\n",
    "print(\"Best MAE score: \", -random_search.best_score_)"
   ]
  },
  {
   "cell_type": "code",
   "execution_count": 84,
   "metadata": {},
   "outputs": [],
   "source": [
    "X_train_transformed_capped = transformer.fit_transform(X_train_capped)\n",
    "X_test_transformed_capped = transformer.transform(X_test_capped)"
   ]
  },
  {
   "cell_type": "code",
   "execution_count": 85,
   "metadata": {},
   "outputs": [
    {
     "name": "stdout",
     "output_type": "stream",
     "text": [
      "Fitting 5 folds for each of 100 candidates, totalling 500 fits\n",
      "Best parameters found:  {'n_estimators': 1400, 'min_samples_split': 2, 'min_samples_leaf': 2, 'max_features': 'sqrt', 'max_depth': None, 'bootstrap': False}\n",
      "Best MAE score:  1190647.767567221\n"
     ]
    }
   ],
   "source": [
    "# Define the parameter grid for RandomizedSearchCV\n",
    "param_dist = {\n",
    "    'n_estimators': [int(x) for x in np.linspace(start=200, stop=2000, num=10)],\n",
    "    'max_depth': [int(x) for x in np.linspace(10, 110, num=11)] + [None],\n",
    "    'min_samples_split': [2, 5, 10],\n",
    "    'min_samples_leaf': [1, 2, 4],\n",
    "    'max_features': [None, 'sqrt', 'log2'],\n",
    "    'bootstrap': [True, False]\n",
    "}\n",
    "\n",
    "# Initialize the Random Forest model\n",
    "rf_model = RandomForestRegressor(random_state=42)\n",
    "\n",
    "# Set up the RandomizedSearchCV\n",
    "random_search = RandomizedSearchCV(estimator=rf_model, param_distributions=param_dist,\n",
    "                                   scoring='neg_mean_absolute_error', n_iter=100, cv=5,\n",
    "                                   verbose=2, random_state=42, n_jobs=-1)\n",
    "\n",
    "# Fit the RandomizedSearchCV to find the best parameters\n",
    "random_search.fit(X_train_transformed_capped, y_train)\n",
    "\n",
    "# Print the best parameters and the best score\n",
    "print(\"Best parameters found: \", random_search.best_params_)\n",
    "print(\"Best MAE score: \", -random_search.best_score_)"
   ]
  }
 ],
 "metadata": {
  "kernelspec": {
   "display_name": "phase1",
   "language": "python",
   "name": "python3"
  },
  "language_info": {
   "codemirror_mode": {
    "name": "ipython",
    "version": 3
   },
   "file_extension": ".py",
   "mimetype": "text/x-python",
   "name": "python",
   "nbconvert_exporter": "python",
   "pygments_lexer": "ipython3",
   "version": "3.12.3"
  }
 },
 "nbformat": 4,
 "nbformat_minor": 2
}
